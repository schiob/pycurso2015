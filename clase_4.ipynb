{
 "cells": [
  {
   "cell_type": "code",
   "execution_count": 106,
   "metadata": {
    "collapsed": false
   },
   "outputs": [
    {
     "data": {
      "text/plain": [
       "'CARLOS'"
      ]
     },
     "execution_count": 106,
     "metadata": {},
     "output_type": "execute_result"
    }
   ],
   "source": [
    "nombres = ['Angel', 'Carlos', 'Ana', 'Jimmy']\n",
    "tel = ['45343545', '3543345', '4543563', '5432346']\n",
    "cal = ['10', '9', '10', '9']\n",
    "dire = [nombres, tel, cal]\n",
    "dire[0][1].upper()"
   ]
  },
  {
   "cell_type": "code",
   "execution_count": 11,
   "metadata": {
    "collapsed": false
   },
   "outputs": [
    {
     "name": "stdout",
     "output_type": "stream",
     "text": [
      "<class 'tuple'>\n",
      "('cosa', 'cosa2', ' pokemon')\n",
      "digimon\n",
      "hola hola hola hola \n"
     ]
    }
   ],
   "source": [
    "# Definir tupĺa\n",
    "l = ('cosa', 'cosa2', ' pokemon')\n",
    "print(type(l))\n",
    "print(l)\n",
    "\n",
    "ob1, ob2, ob3 = 'cosa', 'cosa2', 'digimon'\n",
    "print(ob3)\n",
    "\n",
    "# transformar a _____\n",
    "str(45)\n",
    "int('43453')\n",
    "\n",
    "# string con operador *\n",
    "print('hola ' * 4)"
   ]
  },
  {
   "cell_type": "code",
   "execution_count": 108,
   "metadata": {
    "collapsed": true
   },
   "outputs": [],
   "source": [
    "def hola():\n",
    "    print('hola')"
   ]
  },
  {
   "cell_type": "code",
   "execution_count": 1,
   "metadata": {
    "collapsed": false
   },
   "outputs": [],
   "source": [
    "# Funcinoes\n",
    "\n",
    "def feliz_cumple(nombre):\n",
    "    print('feliz cumpleaños {}{} que te la pases muy lelele!!! :)'.format(nombre, 123))\n",
    "    print('feliz cumple ', nombre)\n",
    "    print('felicidades ' + nombre)\n",
    "    if(False):\n",
    "        return 'hola papá'\n",
    "    for x in range(5):\n",
    "        print('que seas muy feliz!!! :D')\n",
    "    return 'regalo', 'otro regalo', 'carbón'"
   ]
  },
  {
   "cell_type": "code",
   "execution_count": 110,
   "metadata": {
    "collapsed": false
   },
   "outputs": [
    {
     "name": "stdout",
     "output_type": "stream",
     "text": [
      "feliz cumpleaños Angi123 que te la pases muy lelele!!! :)\n",
      "feliz cumple  Angi\n",
      "felicidades Angi\n",
      "que seas muy feliz!!! :D\n",
      "que seas muy feliz!!! :D\n",
      "que seas muy feliz!!! :D\n",
      "que seas muy feliz!!! :D\n",
      "que seas muy feliz!!! :D\n",
      "('regalo', 'otro regalo', 'carbón')\n"
     ]
    }
   ],
   "source": [
    "regalo = feliz_cumple('Angi')\n",
    "print(regalo)"
   ]
  },
  {
   "cell_type": "code",
   "execution_count": 4,
   "metadata": {
    "collapsed": false
   },
   "outputs": [
    {
     "name": "stdout",
     "output_type": "stream",
     "text": [
      "dame el numerito nene: 23\n"
     ]
    },
    {
     "data": {
      "text/plain": [
       "529"
      ]
     },
     "execution_count": 4,
     "metadata": {},
     "output_type": "execute_result"
    }
   ],
   "source": [
    "def multi(x, y=0):\n",
    "    return x * y\n",
    "\n",
    "num1 = int(input('dame el numerito nene: '))\n",
    "multi(num1, y=23)"
   ]
  },
  {
   "cell_type": "code",
   "execution_count": 10,
   "metadata": {
    "collapsed": false
   },
   "outputs": [
    {
     "name": "stdout",
     "output_type": "stream",
     "text": [
      "<class 'tuple'>\n",
      "tacos\n",
      "1\n",
      "2\n",
      "3\n",
      "3\n"
     ]
    }
   ],
   "source": [
    "def print_mercado(*lista):\n",
    "    print(type(lista))\n",
    "    nueva_var = 'tacos'\n",
    "    print(nueva_var)\n",
    "    global x\n",
    "    for x in lista:\n",
    "        print(x)\n",
    "print_mercado(1,2,3)\n",
    "print(x)"
   ]
  },
  {
   "cell_type": "code",
   "execution_count": 113,
   "metadata": {
    "collapsed": false
   },
   "outputs": [
    {
     "name": "stdout",
     "output_type": "stream",
     "text": [
      "['charmander', 0, 4] ['cindaquil', 6, 5]\n",
      "ganó  cindaquil\n"
     ]
    }
   ],
   "source": [
    "# batalla pokemon\n",
    "# nombre, vida, atk\n",
    "poke1 = ['charmander', 30, 4]\n",
    "poke2 = ['cindaquil', 30, 5]\n",
    "char = True\n",
    "\n",
    "while poke1[1] > 0 and poke2[1] > 0:\n",
    "    if char:\n",
    "        poke2[1] = poke2[1] - poke1[2]\n",
    "        char = False\n",
    "    else:\n",
    "        poke1[1] = poke1[1] - poke2[2]\n",
    "        char = True\n",
    "print(poke1, poke2)\n",
    "if poke1[1] > 0:\n",
    "    print('ganó ', poke1[0])\n",
    "else:\n",
    "    print('ganó ', poke2[0])"
   ]
  }
 ],
 "metadata": {
  "kernelspec": {
   "display_name": "Python 3",
   "language": "python",
   "name": "python3"
  },
  "language_info": {
   "codemirror_mode": {
    "name": "ipython",
    "version": 3
   },
   "file_extension": ".py",
   "mimetype": "text/x-python",
   "name": "python",
   "nbconvert_exporter": "python",
   "pygments_lexer": "ipython3",
   "version": "3.4.3"
  }
 },
 "nbformat": 4,
 "nbformat_minor": 0
}
