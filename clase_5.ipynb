{
 "cells": [
  {
   "cell_type": "code",
   "execution_count": 52,
   "metadata": {
    "collapsed": false
   },
   "outputs": [
    {
     "name": "stdout",
     "output_type": "stream",
     "text": [
      "4 6 78\n"
     ]
    }
   ],
   "source": [
    "a, b, c =  tuple(map(int, input().split()))"
   ]
  },
  {
   "cell_type": "code",
   "execution_count": 53,
   "metadata": {
    "collapsed": false
   },
   "outputs": [
    {
     "data": {
      "text/plain": [
       "4"
      ]
     },
     "execution_count": 53,
     "metadata": {},
     "output_type": "execute_result"
    }
   ],
   "source": [
    "a"
   ]
  },
  {
   "cell_type": "code",
   "execution_count": 5,
   "metadata": {
    "collapsed": false
   },
   "outputs": [],
   "source": [
    "# Diccionarios\n",
    "tels = {'Ricardo': 4141414, 'Luz': 4000000, 'Juan': 4111112}"
   ]
  },
  {
   "cell_type": "code",
   "execution_count": 20,
   "metadata": {
    "collapsed": false
   },
   "outputs": [
    {
     "name": "stdout",
     "output_type": "stream",
     "text": [
      "4111112\n",
      "dame el nombre: lele\n",
      "dame el tel: 45654\n"
     ]
    }
   ],
   "source": [
    "# acceder\n",
    "print(tels['Juan'])\n",
    "\n",
    "var = input('dame el nombre: ')\n",
    "\n",
    "if var in tels:\n",
    "    print(tels[var])\n",
    "else:\n",
    "    tel = input('dame el tel: ')\n",
    "    tels[var] = tel"
   ]
  },
  {
   "cell_type": "code",
   "execution_count": 25,
   "metadata": {
    "collapsed": false
   },
   "outputs": [],
   "source": [
    "lista_salon = {'Angel': ['0123121', '23', '3/10/92'],\n",
    "               'Tete': ['1231212', '19', '4/7/93']}"
   ]
  },
  {
   "cell_type": "code",
   "execution_count": 35,
   "metadata": {
    "collapsed": false
   },
   "outputs": [
    {
     "name": "stdout",
     "output_type": "stream",
     "text": [
      "Angel {'Edad': '23', 'Cumple': '3/10/92', 'Mat': '0123121'}\n",
      "Tete {'Edad': '19', 'Cumple': '4/7/93', 'Mat': '1231212'}\n"
     ]
    }
   ],
   "source": [
    "# recorer\n",
    "\n",
    "for key in lista_salon:\n",
    "    print(key, lista_salon[key])"
   ]
  },
  {
   "cell_type": "code",
   "execution_count": 28,
   "metadata": {
    "collapsed": false
   },
   "outputs": [
    {
     "data": {
      "text/plain": [
       "['0123121', '23', '3/10/92']"
      ]
     },
     "execution_count": 28,
     "metadata": {},
     "output_type": "execute_result"
    }
   ],
   "source": [
    "lista_salon['Angel']"
   ]
  },
  {
   "cell_type": "code",
   "execution_count": 31,
   "metadata": {
    "collapsed": false
   },
   "outputs": [],
   "source": [
    "lista_salon = {'Angel': {'Mat': '0123121', 'Edad': '23', 'Cumple': '3/10/92'},\n",
    "               'Tete': {'Mat': '1231212', 'Edad': '19', 'Cumple': '4/7/93'}}"
   ]
  },
  {
   "cell_type": "code",
   "execution_count": 37,
   "metadata": {
    "collapsed": false
   },
   "outputs": [
    {
     "data": {
      "text/plain": [
       "'23'"
      ]
     },
     "execution_count": 37,
     "metadata": {},
     "output_type": "execute_result"
    }
   ],
   "source": [
    "lista_salon['Angel']['Edad']"
   ]
  },
  {
   "cell_type": "code",
   "execution_count": 55,
   "metadata": {
    "collapsed": false
   },
   "outputs": [
    {
     "name": "stdout",
     "output_type": "stream",
     "text": [
      "1 lasagna\n",
      "2 Tacos\n",
      "3 tortas\n",
      "4 tamales\n",
      "(0, 'lasagna')\n",
      "(1, 'Tacos')\n",
      "(2, 'tortas')\n",
      "(3, 'tamales')\n",
      "Tacos\n",
      "tortas\n",
      "lasagna\n",
      "tamales\n",
      "tamales\n",
      "tortas\n",
      "Tacos\n",
      "lasagna\n"
     ]
    }
   ],
   "source": [
    "li = ['lasagna', 'Tacos', 'tortas', 'tamales']\n",
    "\n",
    "for i, comida in enumerate(li, start=1):\n",
    "    print(i, comida)\n",
    "    \n",
    "for x in enumerate(li):\n",
    "    print(x)\n",
    "    \n",
    "for comida in sorted(li, key=len):\n",
    "    print(comida)\n",
    "    \n",
    "for comida in reversed(li):\n",
    "    print(comida)"
   ]
  },
  {
   "cell_type": "code",
   "execution_count": 61,
   "metadata": {
    "collapsed": false
   },
   "outputs": [
    {
     "name": "stdout",
     "output_type": "stream",
     "text": [
      "es mayor o igual a 6\n",
      "es menor a 6\n",
      "es mayor o igual a 6\n",
      "es mayor o igual a 6\n"
     ]
    }
   ],
   "source": [
    "for tam_com in map(len, li):\n",
    "    if tam_com < 6:\n",
    "        print('es menor a 6')\n",
    "    else:\n",
    "        print('es mayor o igual a 6')\n",
    "        \n"
   ]
  },
  {
   "cell_type": "code",
   "execution_count": 68,
   "metadata": {
    "collapsed": false
   },
   "outputs": [
    {
     "data": {
      "text/plain": [
       "79"
      ]
     },
     "execution_count": 68,
     "metadata": {},
     "output_type": "execute_result"
    }
   ],
   "source": [
    "bin(145)\n",
    "hex(64)\n",
    "int('0x4f', base=16)"
   ]
  },
  {
   "cell_type": "code",
   "execution_count": 72,
   "metadata": {
    "collapsed": false
   },
   "outputs": [
    {
     "name": "stdout",
     "output_type": "stream",
     "text": [
      "564564\n",
      "45345\n"
     ]
    }
   ],
   "source": [
    "listita = ['54y4y', '564564', 'hola', 'lelel43', '45345']\n",
    "\n",
    "for num in filter(str.isdigit, listita):\n",
    "    print(num)"
   ]
  },
  {
   "cell_type": "code",
   "execution_count": 79,
   "metadata": {
    "collapsed": false
   },
   "outputs": [],
   "source": [
    "# archivos\n",
    "\n",
    "ar = open('lelele.txt', 'w')\n",
    "ar.write('holi')\n",
    "ar.close()"
   ]
  },
  {
   "cell_type": "code",
   "execution_count": 82,
   "metadata": {
    "collapsed": false
   },
   "outputs": [
    {
     "name": "stdout",
     "output_type": "stream",
     "text": [
      "4542\n"
     ]
    }
   ],
   "source": [
    "print(eval('4+3+4535'))"
   ]
  }
 ],
 "metadata": {
  "kernelspec": {
   "display_name": "Python 3",
   "language": "python",
   "name": "python3"
  }
 },
 "nbformat": 4,
 "nbformat_minor": 0
}
