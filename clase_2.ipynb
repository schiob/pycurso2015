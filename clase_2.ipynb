{
 "cells": [
  {
   "cell_type": "code",
   "execution_count": 21,
   "metadata": {
    "collapsed": false
   },
   "outputs": [
    {
     "name": "stdout",
     "output_type": "stream",
     "text": [
      "fds\n",
      "fsd\n",
      "entrada: sd\n"
     ]
    }
   ],
   "source": [
    "# Entrada\n",
    "input() # Función sola, la entrada no se guarda en ningún lado\n",
    "ent = input() # La entrada se guarda en la variable ent\n",
    "ent2 = input('entrada: ') # La entrada se guarda en la variable ent, al momento de pedir la entrada se muestra \"entrada: \""
   ]
  },
  {
   "cell_type": "code",
   "execution_count": 2,
   "metadata": {
    "collapsed": false
   },
   "outputs": [
    {
     "name": "stdout",
     "output_type": "stream",
     "text": [
      "\n",
      "23\n",
      "hola niño\n",
      "4\n",
      "23 4 hola niño\n"
     ]
    }
   ],
   "source": [
    "# Salida\n",
    "print() # Imprime un renglón vacío\n",
    "print(23) # Imprime el número 23\n",
    "print(\"hola niño\") # Imprime el string \"hola niño\"\n",
    "hola = 4\n",
    "print(hola) # Imprime lo que sea que tenga la variable hola, en este caso un número 4\n",
    "print(23, hola, \"hola niño\") # Imprime el num 23, lo que tenga la variable hola y el string \"hola niño\" separando todo con espacios\n"
   ]
  },
  {
   "cell_type": "code",
   "execution_count": 12,
   "metadata": {
    "collapsed": false
   },
   "outputs": [
    {
     "name": "stdout",
     "output_type": "stream",
     "text": [
      "7\n",
      "1\n",
      "12\n",
      "2.0\n",
      "<class 'float'>\n",
      "<class 'int'>\n",
      "<class 'int'>\n"
     ]
    }
   ],
   "source": [
    "# Operadores aritméticos\n",
    "print(4+3) # Suma\n",
    "print(4-3) # Resta\n",
    "print(4*3) # Multi\n",
    "print(4/2) # Div racional\n",
    "print(type(4.0//3.0)) # Div entera\n",
    "print(type(4%3)) # Mod\n",
    "print(type(4**124452)) # Exponente"
   ]
  },
  {
   "cell_type": "code",
   "execution_count": 20,
   "metadata": {
    "collapsed": false
   },
   "outputs": [
    {
     "name": "stdout",
     "output_type": "stream",
     "text": [
      "True\n",
      "True\n",
      "False\n",
      "True\n",
      "True\n",
      "False\n",
      "False\n"
     ]
    }
   ],
   "source": [
    "# Operadores comparación\n",
    "print(5 == 10-5) # Igual\n",
    "print(5 < 5.6) # Menor que\n",
    "print(5 > 12) # Mayor que\n",
    "print(5 <= 12) # Menor o igual que\n",
    "print(5 >= 5) # Mayor o igual que\n",
    "print(5 != 5) # Diferente a\n",
    "print('holi' < 'Holo')"
   ]
  },
  {
   "cell_type": "code",
   "execution_count": 43,
   "metadata": {
    "collapsed": false
   },
   "outputs": [
    {
     "name": "stdout",
     "output_type": "stream",
     "text": [
      "True\n",
      "False\n",
      "False\n",
      "pasame tu nombre pive: \n",
      "hola Huevo\n"
     ]
    }
   ],
   "source": [
    "# Operadores lógicos\n",
    "print(5+42 == 47 and 'holi' == 'holi')\n",
    "print(False or False) # OJO con este vato ----> or \n",
    "print(not True)\n",
    "nombre = input('pasame tu nombre pive: ')\n",
    "print('hola', nombre or 'Huevo')\n"
   ]
  },
  {
   "cell_type": "code",
   "execution_count": 46,
   "metadata": {
    "collapsed": false
   },
   "outputs": [
    {
     "name": "stdout",
     "output_type": "stream",
     "text": [
      "False\n",
      "139833407420896 139833407421440\n",
      "True\n"
     ]
    }
   ],
   "source": [
    "# Operadores de identidad\n",
    "x = 4\n",
    "y = 21\n",
    "print(x is y)\n",
    "print(id(x), id(y))\n",
    "print(x is not y)"
   ]
  },
  {
   "cell_type": "code",
   "execution_count": 49,
   "metadata": {
    "collapsed": false
   },
   "outputs": [
    {
     "name": "stdout",
     "output_type": "stream",
     "text": [
      "True\n",
      "False\n"
     ]
    }
   ],
   "source": [
    "# Operadores de pertenencia\n",
    "print('h' in 'hola')\n",
    "print('moco' not in 'Angel es un mocoso')"
   ]
  },
  {
   "cell_type": "code",
   "execution_count": 93,
   "metadata": {
    "collapsed": false
   },
   "outputs": [
    {
     "name": "stdout",
     "output_type": "stream",
     "text": [
      "16\n",
      "1\n",
      "4\n",
      "7\n",
      "3\n",
      "-6\n"
     ]
    }
   ],
   "source": [
    "# Operadores de bits\n",
    "print(1 << 4) # 1 -> 10000\n",
    "print(5 >> 2) # 101 -> 1\n",
    "print(5 & 6) # 101 and 110 = 100\n",
    "print(5 | 6) # 101 or 110 = 111\n",
    "print(5 ^ 6) # 101 xor 110 = 011\n",
    "print(~5) # neg 101 = 010"
   ]
  },
  {
   "cell_type": "code",
   "execution_count": 51,
   "metadata": {
    "collapsed": false
   },
   "outputs": [
    {
     "name": "stdout",
     "output_type": "stream",
     "text": [
      "todo lo que aprendiste en mate es una farsa\n"
     ]
    }
   ],
   "source": [
    "# Condiciones \n",
    "if False:\n",
    "    print(\"5 es menor que 6!!! such wow\")\n",
    "    x = 12\n",
    "    print(x+4)\n",
    "else:\n",
    "    print(\"todo lo que aprendiste en mate es una farsa\")"
   ]
  },
  {
   "cell_type": "code",
   "execution_count": 54,
   "metadata": {
    "collapsed": false
   },
   "outputs": [
    {
     "name": "stdout",
     "output_type": "stream",
     "text": [
      "dime un número del 1 al 10: 6\n",
      "tssssss casi pasas :(\n"
     ]
    }
   ],
   "source": [
    "x = input('dime un número del 1 al 10: ')\n",
    "x = int(x)\n",
    "if x == 5:\n",
    "    print('de cada 10 personas que estudian en Sistemas, 5 son la mitad')\n",
    "elif 5 < x < 7 : # 5 < x and x < 7\n",
    "    print('tssssss casi pasas :(')\n",
    "\n",
    "if x == 4:\n",
    "    print('cuatro burritos comí ayer')\n",
    "elif x >= 7:\n",
    "    print('estás dentro del rango de los gatos que prefieren wiskas')\n",
    "else:\n",
    "    print('no pues qué poquito')"
   ]
  },
  {
   "cell_type": "code",
   "execution_count": 63,
   "metadata": {
    "collapsed": false
   },
   "outputs": [
    {
     "name": "stdout",
     "output_type": "stream",
     "text": [
      "elige uno piedra/papel/tijera: papel\n",
      "la compu eligió  piedra\n",
      "ganó la persona\n"
     ]
    }
   ],
   "source": [
    "# Piedra papel o tijera\n",
    "import random\n",
    "op_p = input('elige uno piedra/papel/tijera: ')\n",
    "op_c = random.choice(['piedra', 'papel', 'tijera'])\n",
    "print('la compu eligió ', op_c)\n",
    "\n",
    "if op_p == op_c:\n",
    "    print('empataron chavo')\n",
    "elif op_p == 'piedra':\n",
    "    if op_c == 'papel':\n",
    "        print('ganó la compu')\n",
    "    else:\n",
    "        print('ganó la persona')\n",
    "elif op_p == 'papel':\n",
    "    if op_c == 'piedra':\n",
    "        print('ganó la persona')\n",
    "    else:\n",
    "        print('ganó la compu')\n",
    "elif op_p == 'tijera':\n",
    "    if op_c == 'piedra':\n",
    "        print('ganó la compu')\n",
    "    else:\n",
    "        print('ganó la persona')\n",
    "else:\n",
    "    print('no sé que $#%& le pusiste de entrada')"
   ]
  },
  {
   "cell_type": "code",
   "execution_count": null,
   "metadata": {
    "collapsed": true
   },
   "outputs": [],
   "source": []
  }
 ],
 "metadata": {
  "kernelspec": {
   "display_name": "Python 3",
   "language": "python",
   "name": "python3"
  },
  "language_info": {
   "codemirror_mode": {
    "name": "ipython",
    "version": 3
   },
   "file_extension": ".py",
   "mimetype": "text/x-python",
   "name": "python",
   "nbconvert_exporter": "python",
   "pygments_lexer": "ipython3",
   "version": "3.4.3"
  }
 },
 "nbformat": 4,
 "nbformat_minor": 0
}
