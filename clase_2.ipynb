{
 "cells": [
  {
   "cell_type": "code",
   "execution_count": 2,
   "metadata": {
    "collapsed": false
   },
   "outputs": [
    {
     "name": "stdout",
     "output_type": "stream",
     "text": [
      "\n",
      "\n",
      "entrada: \n"
     ]
    }
   ],
   "source": [
    "# Entrada\n",
    "input() # Función sola, la entrada no se guarda en ningún lado\n",
    "ent = input() # La entrada se guarda en la variable ent\n",
    "ent2 = input('entrada: ') # La entrada se guarda en la variable ent, al momento de pedir la entrada se muestra \"entrada: \""
   ]
  },
  {
   "cell_type": "code",
   "execution_count": 3,
   "metadata": {
    "collapsed": false
   },
   "outputs": [
    {
     "name": "stdout",
     "output_type": "stream",
     "text": [
      "\n",
      "23\n",
      "hola niño\n",
      "4\n",
      "23 4 hola niño\n"
     ]
    }
   ],
   "source": [
    "# Salida\n",
    "print() # Imprime un renglón vacío\n",
    "print(23) # Imprime el número 23\n",
    "print(\"hola niño\") # Imprime el string \"hola niño\"\n",
    "hola = 4\n",
    "print(hola) # Imprime lo que sea que tenga la variable hola, en este caso un número 4\n",
    "print(23, hola, \"hola niño\") # Imprime el num 23, lo que tenga la variable hola y el string \"hola niño\" separando todo con espacios\n"
   ]
  },
  {
   "cell_type": "code",
   "execution_count": 24,
   "metadata": {
    "collapsed": false
   },
   "outputs": [
    {
     "name": "stdout",
     "output_type": "stream",
     "text": [
      "7\n",
      "1\n",
      "7\n",
      "1.3333333333333333\n",
      "1\n",
      "0\n"
     ]
    }
   ],
   "source": [
    "# Operadores aritméticos\n",
    "print(4+3) # Suma\n",
    "print(4-3) # Resta\n",
    "print(4+3) # Multi\n",
    "print(4/3) # Div racional\n",
    "print(4//3) # Div entera\n",
    "print(4%2) # Mod\n",
    "print(4**3) # Exponente"
   ]
  },
  {
   "cell_type": "code",
   "execution_count": 62,
   "metadata": {
    "collapsed": false
   },
   "outputs": [
    {
     "name": "stdout",
     "output_type": "stream",
     "text": [
      "True\n",
      "True\n",
      "False\n",
      "True\n",
      "True\n",
      "False\n"
     ]
    }
   ],
   "source": [
    "# Operadores comparación\n",
    "print(5 == 10-5) # Igual\n",
    "print(5 < 5.6) # Menor que\n",
    "print(5 > 12) # Mayor que\n",
    "print(5 <= 12) # Menor o igual que\n",
    "print(5 >= 5) # Mayor o igual que\n",
    "print(5 != 5) # Diferente a"
   ]
  },
  {
   "cell_type": "code",
   "execution_count": 98,
   "metadata": {
    "collapsed": false
   },
   "outputs": [
    {
     "name": "stdout",
     "output_type": "stream",
     "text": [
      "False\n",
      "True\n",
      "False\n"
     ]
    }
   ],
   "source": [
    "# Operadores lógicos\n",
    "print(True and False)\n",
    "print(True or False) # OJO con este vato ----> or \n",
    "print(not True)"
   ]
  },
  {
   "cell_type": "code",
   "execution_count": 75,
   "metadata": {
    "collapsed": false
   },
   "outputs": [
    {
     "name": "stdout",
     "output_type": "stream",
     "text": [
      "True\n",
      "140126986025440 140126986025440\n",
      "False\n"
     ]
    }
   ],
   "source": [
    "# Operadores de identidad\n",
    "x = 4\n",
    "y = 4\n",
    "print(x is y)\n",
    "print(id(x), id(y))\n",
    "print(x is not y)"
   ]
  },
  {
   "cell_type": "code",
   "execution_count": 79,
   "metadata": {
    "collapsed": false
   },
   "outputs": [
    {
     "name": "stdout",
     "output_type": "stream",
     "text": [
      "True\n",
      "True\n"
     ]
    }
   ],
   "source": [
    "# Operadores de pertenencia\n",
    "print('h' in 'hola')\n",
    "print('moco' not in 'Angel se come los moc...')"
   ]
  },
  {
   "cell_type": "code",
   "execution_count": 93,
   "metadata": {
    "collapsed": false
   },
   "outputs": [
    {
     "name": "stdout",
     "output_type": "stream",
     "text": [
      "16\n",
      "1\n",
      "4\n",
      "7\n",
      "3\n",
      "-6\n"
     ]
    }
   ],
   "source": [
    "# Operadores de bits\n",
    "print(1 << 4) # 1 -> 10000\n",
    "print(5 >> 2) # 101 -> 1\n",
    "print(5 & 6) # 101 and 110 = 100\n",
    "print(5 | 6) # 101 or 110 = 111\n",
    "print(5 ^ 6) # 101 xor 110 = 011\n",
    "print(~5) # neg 101 = 110"
   ]
  },
  {
   "cell_type": "code",
   "execution_count": 95,
   "metadata": {
    "collapsed": false
   },
   "outputs": [
    {
     "name": "stdout",
     "output_type": "stream",
     "text": [
      "5 es menor que 6!!! such wow\n"
     ]
    }
   ],
   "source": [
    "# Condiciones \n",
    "if 5<6:\n",
    "    print(\"5 es menor que 6!!! such wow\")\n",
    "else:\n",
    "    print(\"todo lo que aprendiste en mate es una farsa\")"
   ]
  },
  {
   "cell_type": "code",
   "execution_count": 105,
   "metadata": {
    "collapsed": false
   },
   "outputs": [
    {
     "name": "stdout",
     "output_type": "stream",
     "text": [
      "dime un número del 1 al 10: 4\n",
      "no pues qué poquito\n"
     ]
    }
   ],
   "source": [
    "x = input('dime un número del 1 al 10: ')\n",
    "x = int(x)\n",
    "if x == 5:\n",
    "    print('de cada 10 personas que estudian en Sistemas, 5 son la mitad')\n",
    "elif 5 < x < 7 :\n",
    "    print('tssssss casi pasas :(')\n",
    "elif x >= 7:\n",
    "    print('estás dentro del rango de los gatos que prefieren wiskas')\n",
    "else:\n",
    "    print('no pues qué poquito')"
   ]
  },
  {
   "cell_type": "code",
   "execution_count": null,
   "metadata": {
    "collapsed": true
   },
   "outputs": [],
   "source": [
    "# Piedra papel o tijera\n",
    "import random"
   ]
  }
 ],
 "metadata": {
  "kernelspec": {
   "display_name": "Python 3",
   "language": "python",
   "name": "python3"
  },
  "language_info": {
   "codemirror_mode": {
    "name": "ipython",
    "version": 3
   },
   "file_extension": ".py",
   "mimetype": "text/x-python",
   "name": "python",
   "nbconvert_exporter": "python",
   "pygments_lexer": "ipython3",
   "version": "3.4.3"
  }
 },
 "nbformat": 4,
 "nbformat_minor": 0
}
