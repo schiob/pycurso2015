{
 "cells": [
  {
   "cell_type": "code",
   "execution_count": 3,
   "metadata": {
    "collapsed": false
   },
   "outputs": [
    {
     "name": "stdout",
     "output_type": "stream",
     "text": [
      "x es mayor que 0 y menor que 5\n"
     ]
    }
   ],
   "source": [
    "x = 3\n",
    "if x > 5:\n",
    "    print('x es mas grande que 5')\n",
    "elif x < 0:\n",
    "    print('x es negativa')\n",
    "else:\n",
    "    print('x es mayor que 0 y menor que 5')"
   ]
  },
  {
   "cell_type": "code",
   "execution_count": 9,
   "metadata": {
    "collapsed": false
   },
   "outputs": [
    {
     "name": "stdout",
     "output_type": "stream",
     "text": [
      "[]\n",
      "[4, 5, 6, 3, 4]\n",
      "[23, 24.3, 'coca', True]\n"
     ]
    }
   ],
   "source": [
    "# Listas\n",
    "li = list()\n",
    "print(li)\n",
    "li = [4, 5, 6, 3, 4]\n",
    "print(li)\n",
    "li = [23, 24.3, 'coca', True]\n",
    "print(li)\n"
   ]
  },
  {
   "cell_type": "code",
   "execution_count": 15,
   "metadata": {
    "collapsed": false
   },
   "outputs": [
    {
     "name": "stdout",
     "output_type": "stream",
     "text": [
      "True\n",
      "l\n",
      "e\n"
     ]
    }
   ],
   "source": [
    "print(li[3])\n",
    "print('Alex'[1]) # desde el principio\n",
    "print('Alex'[-2]) # desde el final\n"
   ]
  },
  {
   "cell_type": "code",
   "execution_count": 27,
   "metadata": {
    "collapsed": false
   },
   "outputs": [
    {
     "name": "stdout",
     "output_type": "stream",
     "text": [
      "jan\n",
      "ljn\n"
     ]
    }
   ],
   "source": [
    "print('Alejandro'[3:6])\n",
    "print('Alejandro'[1:6:2])"
   ]
  },
  {
   "cell_type": "code",
   "execution_count": 37,
   "metadata": {
    "collapsed": false
   },
   "outputs": [
    {
     "name": "stdout",
     "output_type": "stream",
     "text": [
      "[]\n",
      "['otra', 'cosa']\n",
      "['otra', 'cosa', 'holi']\n"
     ]
    }
   ],
   "source": [
    "li = list() # Son mutables\n",
    "print(li)\n",
    "li = li + ['otra', 'cosa']\n",
    "print(li)\n",
    "agrego = 'holi'\n",
    "li.append(agrego)\n",
    "print(li)\n",
    "agrego = 'otra cosa'"
   ]
  },
  {
   "cell_type": "code",
   "execution_count": 43,
   "metadata": {
    "collapsed": false
   },
   "outputs": [
    {
     "name": "stdout",
     "output_type": "stream",
     "text": [
      "(1, 2, 3, 5)\n"
     ]
    }
   ],
   "source": [
    "tu = (1, 2, 3, 5)\n",
    "print(tu) # no son mutables"
   ]
  },
  {
   "cell_type": "code",
   "execution_count": 51,
   "metadata": {
    "collapsed": false
   },
   "outputs": [
    {
     "name": "stdout",
     "output_type": "stream",
     "text": [
      "x es ahora:  0\n",
      "x es ahora:  1\n",
      "x es ahora:  2\n",
      "x es ahora:  3\n",
      "x es ahora:  4\n",
      "x es ahora:  5\n",
      "x es ahora:  6\n",
      "x es ahora:  7\n",
      "x es ahora:  8\n",
      "x es ahora:  9\n",
      "0\n",
      "512\n",
      "27\n",
      "64\n",
      "729\n",
      "474552\n"
     ]
    }
   ],
   "source": [
    "lista1 = [0, 8, 3, 4, 9, 78]\n",
    "x = 0\n",
    "while x < 10:\n",
    "    print('x es ahora: ', x)\n",
    "    x += 1\n",
    "for num in lista1:\n",
    "    print(num**3)"
   ]
  },
  {
   "cell_type": "code",
   "execution_count": 58,
   "metadata": {
    "collapsed": false
   },
   "outputs": [
    {
     "data": {
      "text/plain": [
       "['cosa',\n",
       " 'holi',\n",
       " 'otra',\n",
       " 0,\n",
       " 1,\n",
       " 2,\n",
       " 3,\n",
       " 4,\n",
       " 5,\n",
       " 6,\n",
       " 7,\n",
       " 8,\n",
       " 9,\n",
       " 0,\n",
       " 1,\n",
       " 2,\n",
       " 3,\n",
       " 4,\n",
       " 5,\n",
       " 6,\n",
       " 7,\n",
       " 8,\n",
       " 9]"
      ]
     },
     "execution_count": 58,
     "metadata": {},
     "output_type": "execute_result"
    }
   ],
   "source": [
    "for i in range(10):\n",
    "    li.append(i)\n"
   ]
  },
  {
   "cell_type": "code",
   "execution_count": null,
   "metadata": {
    "collapsed": true
   },
   "outputs": [],
   "source": []
  }
 ],
 "metadata": {
  "kernelspec": {
   "display_name": "Python 3",
   "language": "python",
   "name": "python3"
  },
  "language_info": {
   "codemirror_mode": {
    "name": "ipython",
    "version": 3
   },
   "file_extension": ".py",
   "mimetype": "text/x-python",
   "name": "python",
   "nbconvert_exporter": "python",
   "pygments_lexer": "ipython3",
   "version": "3.4.3"
  }
 },
 "nbformat": 4,
 "nbformat_minor": 0
}
